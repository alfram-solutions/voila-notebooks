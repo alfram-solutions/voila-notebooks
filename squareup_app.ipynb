{
 "cells": [
  {
   "cell_type": "code",
   "execution_count": 1,
   "id": "18fe9a7b",
   "metadata": {},
   "outputs": [],
   "source": [
    "!pip3 -qq  install pandas\n",
    "!pip3 -qq  install numpy\n",
    "!pip3 -qq  install ipywidgets"
   ]
  },
  {
   "cell_type": "code",
   "execution_count": 2,
   "id": "89912af2",
   "metadata": {},
   "outputs": [],
   "source": [
    "import pandas as pd\n",
    "import numpy as np\n",
    "import ipywidgets as widgets\n",
    "import io"
   ]
  },
  {
   "cell_type": "code",
   "execution_count": 3,
   "id": "ede944b0",
   "metadata": {},
   "outputs": [],
   "source": [
    "btn_upload = widgets.FileUpload(accept=\".csv\", multiple=False)\n",
    "out_pl = widgets.Output()\n",
    "out_pl.clear_output()\n",
    "btn_convert = widgets.Button(description=\"Convert\")\n",
    "\n",
    "def get_content(self):\n",
    "    # get the file contents\n",
    "    values_dict = btn_upload.value\n",
    "    first_value = values_dict.values()\n",
    "    file_data = next(iter(first_value))\n",
    "    content = file_data[\"content\"]\n",
    "    \n",
    "    convert_csv(content)\n",
    "    \n",
    "\n",
    "def convert_csv(file_content):\n",
    "    # data transformations\n",
    "    df = pd.read_csv(io.BytesIO(file_content))\n",
    "    \n",
    "    to_drop = ['Token', 'Unit and Precision', 'Description', 'GTIN', 'Price', 'Option Name 1',\n",
    "       'Option Value 1', 'Default Unit Cost', 'Default Vendor Name',\n",
    "       'Default Vendor Code', 'Enabled Partick', 'Current Quantity Partick',\n",
    "       'New Quantity Partick', 'Stock Alert Enabled Partick',\n",
    "       'Stock Alert Count Partick', 'Price Partick', 'New Quantity Pollok', 'Stock Alert Count Pollok', 'Tax - Standard (20%)', 'Tax - Zero (0%)']\n",
    "    df.drop(to_drop, inplace=True, axis=1)\n",
    "    \n",
    "    tobacco_categories = ['Tobacco Cigarettes', 'Tobacco misc', 'Tobacco Rolledt']\n",
    "    tobacco_df = df.loc[df[\"Category\"].isin(tobacco_categories)]\n",
    "    \n",
    "    enabled_pollok_df = tobacco_df.loc[df[\"Enabled Pollok\"] == \"Y\"]\n",
    "    \n",
    "    sa_enabled_pollok = enabled_pollok_df.dropna(subset=[\"Stock Alert Enabled Pollok\"])\n",
    "    \n",
    "    out_pl.clear_output()\n",
    "    with out_pl:\n",
    "        display(sa_enabled_pollok)\n",
    "\n",
    "btn_convert.on_click(get_content)"
   ]
  },
  {
   "cell_type": "code",
   "execution_count": 4,
   "id": "993763b6",
   "metadata": {},
   "outputs": [
    {
     "data": {
      "application/vnd.jupyter.widget-view+json": {
       "model_id": "1d256fc592614d89965b97eee1942053",
       "version_major": 2,
       "version_minor": 0
      },
      "text/plain": [
       "VBox(children=(Label(value='Convert the Square products csv'), FileUpload(value={}, accept='.csv', description…"
      ]
     },
     "metadata": {},
     "output_type": "display_data"
    }
   ],
   "source": [
    "# build gui\n",
    "widgets.VBox([widgets.Label(\"Convert the Square products csv\"),\n",
    "     btn_upload, btn_convert, out_pl])"
   ]
  },
  {
   "cell_type": "code",
   "execution_count": 5,
   "id": "3504aa9f",
   "metadata": {},
   "outputs": [
    {
     "name": "stdout",
     "output_type": "stream",
     "text": [
      "Enabling: voila\n",
      "- Writing config: /home/jaskooner/src/voila-notebooks/venv/etc/jupyter\n",
      "    - Validating...\n",
      "      voila 0.2.16 \u001b[32mOK\u001b[0m\n"
     ]
    }
   ],
   "source": [
    "!pip3 -qqq  install nbconvert\n",
    "!pip3 -qqq  install voila\n",
    "!jupyter serverextension enable --sys-prefix voila"
   ]
  },
  {
   "cell_type": "code",
   "execution_count": null,
   "id": "ac8dd02d",
   "metadata": {},
   "outputs": [],
   "source": []
  }
 ],
 "metadata": {
  "kernelspec": {
   "display_name": "Python 3",
   "language": "python",
   "name": "python3"
  },
  "language_info": {
   "codemirror_mode": {
    "name": "ipython",
    "version": 3
   },
   "file_extension": ".py",
   "mimetype": "text/x-python",
   "name": "python",
   "nbconvert_exporter": "python",
   "pygments_lexer": "ipython3",
   "version": "3.8.10"
  }
 },
 "nbformat": 4,
 "nbformat_minor": 5
}
