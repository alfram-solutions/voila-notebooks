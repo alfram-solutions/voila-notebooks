{
 "cells": [
  {
   "cell_type": "code",
   "execution_count": 1,
   "id": "18fe9a7b",
   "metadata": {},
   "outputs": [
    {
     "name": "stdout",
     "output_type": "stream",
     "text": [
      "Non-user install because user site-packages disabled\n",
      "Created temporary directory: /tmp/pip-ephem-wheel-cache-dv2yzvbe\n",
      "Created temporary directory: /tmp/pip-req-tracker-ftji4seb\n",
      "Initialized build tracking at /tmp/pip-req-tracker-ftji4seb\n",
      "Created build tracker: /tmp/pip-req-tracker-ftji4seb\n",
      "Entered build tracker: /tmp/pip-req-tracker-ftji4seb\n",
      "Created temporary directory: /tmp/pip-install-2bpj8i1j\n",
      "Requirement already satisfied: pandas in ./venv/lib/python3.8/site-packages (1.3.4)\n",
      "Requirement already satisfied: numpy>=1.17.3; platform_machine != \"aarch64\" and platform_machine != \"arm64\" and python_version < \"3.10\" in ./venv/lib/python3.8/site-packages (from pandas) (1.21.4)\n",
      "Requirement already satisfied: pytz>=2017.3 in ./venv/lib/python3.8/site-packages (from pandas) (2021.3)\n",
      "Requirement already satisfied: python-dateutil>=2.7.3 in ./venv/lib/python3.8/site-packages (from pandas) (2.8.2)\n",
      "Requirement already satisfied: six>=1.5 in ./venv/lib/python3.8/site-packages (from python-dateutil>=2.7.3->pandas) (1.16.0)\n",
      "Cleaning up...\n",
      "Removed build tracker: '/tmp/pip-req-tracker-ftji4seb'\n",
      "Non-user install because user site-packages disabled\n",
      "Created temporary directory: /tmp/pip-ephem-wheel-cache-b7zw2pfk\n",
      "Created temporary directory: /tmp/pip-req-tracker-lag1l8up\n",
      "Initialized build tracking at /tmp/pip-req-tracker-lag1l8up\n",
      "Created build tracker: /tmp/pip-req-tracker-lag1l8up\n",
      "Entered build tracker: /tmp/pip-req-tracker-lag1l8up\n",
      "Created temporary directory: /tmp/pip-install-b06pk13p\n",
      "Requirement already satisfied: numpy in ./venv/lib/python3.8/site-packages (1.21.4)\n",
      "Cleaning up...\n",
      "Removed build tracker: '/tmp/pip-req-tracker-lag1l8up'\n",
      "Non-user install because user site-packages disabled\n",
      "Created temporary directory: /tmp/pip-ephem-wheel-cache-eauftw72\n",
      "Created temporary directory: /tmp/pip-req-tracker-8mt5_wqv\n",
      "Initialized build tracking at /tmp/pip-req-tracker-8mt5_wqv\n",
      "Created build tracker: /tmp/pip-req-tracker-8mt5_wqv\n",
      "Entered build tracker: /tmp/pip-req-tracker-8mt5_wqv\n",
      "Created temporary directory: /tmp/pip-install-pj6kvc5u\n",
      "Requirement already satisfied: ipywidgets in ./venv/lib/python3.8/site-packages (7.6.5)\n",
      "Requirement already satisfied: ipykernel>=4.5.1 in ./venv/lib/python3.8/site-packages (from ipywidgets) (6.5.1)\n",
      "Requirement already satisfied: traitlets>=4.3.1 in ./venv/lib/python3.8/site-packages (from ipywidgets) (5.1.1)\n",
      "Requirement already satisfied: jupyterlab-widgets>=1.0.0; python_version >= \"3.6\" in ./venv/lib/python3.8/site-packages (from ipywidgets) (1.0.2)\n",
      "Requirement already satisfied: nbformat>=4.2.0 in ./venv/lib/python3.8/site-packages (from ipywidgets) (5.1.3)\n",
      "Requirement already satisfied: widgetsnbextension~=3.5.0 in ./venv/lib/python3.8/site-packages (from ipywidgets) (3.5.2)\n",
      "Requirement already satisfied: ipython-genutils~=0.2.0 in ./venv/lib/python3.8/site-packages (from ipywidgets) (0.2.0)\n",
      "Requirement already satisfied: ipython>=4.0.0; python_version >= \"3.3\" in ./venv/lib/python3.8/site-packages (from ipywidgets) (7.30.0)\n",
      "Requirement already satisfied: debugpy<2.0,>=1.0.0 in ./venv/lib/python3.8/site-packages (from ipykernel>=4.5.1->ipywidgets) (1.5.1)\n",
      "Requirement already satisfied: matplotlib-inline<0.2.0,>=0.1.0 in ./venv/lib/python3.8/site-packages (from ipykernel>=4.5.1->ipywidgets) (0.1.3)\n",
      "Requirement already satisfied: tornado<7.0,>=4.2 in ./venv/lib/python3.8/site-packages (from ipykernel>=4.5.1->ipywidgets) (6.1)\n",
      "Requirement already satisfied: jupyter-client<8.0 in ./venv/lib/python3.8/site-packages (from ipykernel>=4.5.1->ipywidgets) (6.1.12)\n",
      "Requirement already satisfied: jsonschema!=2.5.0,>=2.4 in ./venv/lib/python3.8/site-packages (from nbformat>=4.2.0->ipywidgets) (4.2.1)\n",
      "Requirement already satisfied: jupyter-core in ./venv/lib/python3.8/site-packages (from nbformat>=4.2.0->ipywidgets) (4.9.1)\n",
      "Requirement already satisfied: notebook>=4.4.1 in ./venv/lib/python3.8/site-packages (from widgetsnbextension~=3.5.0->ipywidgets) (6.4.6)\n",
      "Requirement already satisfied: jedi>=0.16 in ./venv/lib/python3.8/site-packages (from ipython>=4.0.0; python_version >= \"3.3\"->ipywidgets) (0.18.1)\n",
      "Requirement already satisfied: backcall in ./venv/lib/python3.8/site-packages (from ipython>=4.0.0; python_version >= \"3.3\"->ipywidgets) (0.2.0)\n",
      "Requirement already satisfied: pickleshare in ./venv/lib/python3.8/site-packages (from ipython>=4.0.0; python_version >= \"3.3\"->ipywidgets) (0.7.5)\n",
      "Requirement already satisfied: decorator in ./venv/lib/python3.8/site-packages (from ipython>=4.0.0; python_version >= \"3.3\"->ipywidgets) (5.1.0)\n",
      "Requirement already satisfied: pygments in ./venv/lib/python3.8/site-packages (from ipython>=4.0.0; python_version >= \"3.3\"->ipywidgets) (2.10.0)\n",
      "Requirement already satisfied: prompt-toolkit!=3.0.0,!=3.0.1,<3.1.0,>=2.0.0 in ./venv/lib/python3.8/site-packages (from ipython>=4.0.0; python_version >= \"3.3\"->ipywidgets) (3.0.23)\n",
      "Requirement already satisfied: pexpect>4.3; sys_platform != \"win32\" in ./venv/lib/python3.8/site-packages (from ipython>=4.0.0; python_version >= \"3.3\"->ipywidgets) (4.8.0)\n",
      "Requirement already satisfied: setuptools>=18.5 in ./venv/lib/python3.8/site-packages (from ipython>=4.0.0; python_version >= \"3.3\"->ipywidgets) (44.0.0)\n",
      "Requirement already satisfied: python-dateutil>=2.1 in ./venv/lib/python3.8/site-packages (from jupyter-client<8.0->ipykernel>=4.5.1->ipywidgets) (2.8.2)\n",
      "Requirement already satisfied: pyzmq>=13 in ./venv/lib/python3.8/site-packages (from jupyter-client<8.0->ipykernel>=4.5.1->ipywidgets) (22.3.0)\n",
      "Requirement already satisfied: importlib-resources>=1.4.0; python_version < \"3.9\" in ./venv/lib/python3.8/site-packages (from jsonschema!=2.5.0,>=2.4->nbformat>=4.2.0->ipywidgets) (5.4.0)\n",
      "Requirement already satisfied: pyrsistent!=0.17.0,!=0.17.1,!=0.17.2,>=0.14.0 in ./venv/lib/python3.8/site-packages (from jsonschema!=2.5.0,>=2.4->nbformat>=4.2.0->ipywidgets) (0.18.0)\n",
      "Requirement already satisfied: attrs>=17.4.0 in ./venv/lib/python3.8/site-packages (from jsonschema!=2.5.0,>=2.4->nbformat>=4.2.0->ipywidgets) (21.2.0)\n",
      "Requirement already satisfied: argon2-cffi in ./venv/lib/python3.8/site-packages (from notebook>=4.4.1->widgetsnbextension~=3.5.0->ipywidgets) (21.1.0)\n",
      "Requirement already satisfied: nest-asyncio>=1.5 in ./venv/lib/python3.8/site-packages (from notebook>=4.4.1->widgetsnbextension~=3.5.0->ipywidgets) (1.5.1)\n",
      "Requirement already satisfied: Send2Trash>=1.8.0 in ./venv/lib/python3.8/site-packages (from notebook>=4.4.1->widgetsnbextension~=3.5.0->ipywidgets) (1.8.0)\n",
      "Requirement already satisfied: prometheus-client in ./venv/lib/python3.8/site-packages (from notebook>=4.4.1->widgetsnbextension~=3.5.0->ipywidgets) (0.12.0)\n",
      "Requirement already satisfied: jinja2 in ./venv/lib/python3.8/site-packages (from notebook>=4.4.1->widgetsnbextension~=3.5.0->ipywidgets) (3.0.3)\n",
      "Requirement already satisfied: terminado>=0.8.3 in ./venv/lib/python3.8/site-packages (from notebook>=4.4.1->widgetsnbextension~=3.5.0->ipywidgets) (0.12.1)\n",
      "Requirement already satisfied: nbconvert in ./venv/lib/python3.8/site-packages (from notebook>=4.4.1->widgetsnbextension~=3.5.0->ipywidgets) (6.3.0)\n",
      "Requirement already satisfied: parso<0.9.0,>=0.8.0 in ./venv/lib/python3.8/site-packages (from jedi>=0.16->ipython>=4.0.0; python_version >= \"3.3\"->ipywidgets) (0.8.2)\n",
      "Requirement already satisfied: wcwidth in ./venv/lib/python3.8/site-packages (from prompt-toolkit!=3.0.0,!=3.0.1,<3.1.0,>=2.0.0->ipython>=4.0.0; python_version >= \"3.3\"->ipywidgets) (0.2.5)\n",
      "Requirement already satisfied: ptyprocess>=0.5 in ./venv/lib/python3.8/site-packages (from pexpect>4.3; sys_platform != \"win32\"->ipython>=4.0.0; python_version >= \"3.3\"->ipywidgets) (0.7.0)\n",
      "Requirement already satisfied: six>=1.5 in ./venv/lib/python3.8/site-packages (from python-dateutil>=2.1->jupyter-client<8.0->ipykernel>=4.5.1->ipywidgets) (1.16.0)\n",
      "Requirement already satisfied: zipp>=3.1.0; python_version < \"3.10\" in ./venv/lib/python3.8/site-packages (from importlib-resources>=1.4.0; python_version < \"3.9\"->jsonschema!=2.5.0,>=2.4->nbformat>=4.2.0->ipywidgets) (3.6.0)\n",
      "Requirement already satisfied: cffi>=1.0.0 in ./venv/lib/python3.8/site-packages (from argon2-cffi->notebook>=4.4.1->widgetsnbextension~=3.5.0->ipywidgets) (1.15.0)\n",
      "Requirement already satisfied: MarkupSafe>=2.0 in ./venv/lib/python3.8/site-packages (from jinja2->notebook>=4.4.1->widgetsnbextension~=3.5.0->ipywidgets) (2.0.1)\n",
      "Requirement already satisfied: defusedxml in ./venv/lib/python3.8/site-packages (from nbconvert->notebook>=4.4.1->widgetsnbextension~=3.5.0->ipywidgets) (0.7.1)\n",
      "Requirement already satisfied: entrypoints>=0.2.2 in ./venv/lib/python3.8/site-packages (from nbconvert->notebook>=4.4.1->widgetsnbextension~=3.5.0->ipywidgets) (0.3)\n",
      "Requirement already satisfied: nbclient<0.6.0,>=0.5.0 in ./venv/lib/python3.8/site-packages (from nbconvert->notebook>=4.4.1->widgetsnbextension~=3.5.0->ipywidgets) (0.5.9)\n",
      "Requirement already satisfied: mistune<2,>=0.8.1 in ./venv/lib/python3.8/site-packages (from nbconvert->notebook>=4.4.1->widgetsnbextension~=3.5.0->ipywidgets) (0.8.4)\n",
      "Requirement already satisfied: bleach in ./venv/lib/python3.8/site-packages (from nbconvert->notebook>=4.4.1->widgetsnbextension~=3.5.0->ipywidgets) (4.1.0)\n"
     ]
    },
    {
     "name": "stdout",
     "output_type": "stream",
     "text": [
      "Requirement already satisfied: testpath in ./venv/lib/python3.8/site-packages (from nbconvert->notebook>=4.4.1->widgetsnbextension~=3.5.0->ipywidgets) (0.5.0)\n",
      "Requirement already satisfied: pandocfilters>=1.4.1 in ./venv/lib/python3.8/site-packages (from nbconvert->notebook>=4.4.1->widgetsnbextension~=3.5.0->ipywidgets) (1.5.0)\n",
      "Requirement already satisfied: jupyterlab-pygments in ./venv/lib/python3.8/site-packages (from nbconvert->notebook>=4.4.1->widgetsnbextension~=3.5.0->ipywidgets) (0.1.2)\n",
      "Requirement already satisfied: pycparser in ./venv/lib/python3.8/site-packages (from cffi>=1.0.0->argon2-cffi->notebook>=4.4.1->widgetsnbextension~=3.5.0->ipywidgets) (2.21)\n",
      "Requirement already satisfied: packaging in ./venv/lib/python3.8/site-packages (from bleach->nbconvert->notebook>=4.4.1->widgetsnbextension~=3.5.0->ipywidgets) (21.3)\n",
      "Requirement already satisfied: webencodings in ./venv/lib/python3.8/site-packages (from bleach->nbconvert->notebook>=4.4.1->widgetsnbextension~=3.5.0->ipywidgets) (0.5.1)\n",
      "Requirement already satisfied: pyparsing!=3.0.5,>=2.0.2 in ./venv/lib/python3.8/site-packages (from packaging->bleach->nbconvert->notebook>=4.4.1->widgetsnbextension~=3.5.0->ipywidgets) (3.0.6)\n",
      "Cleaning up...\n",
      "Removed build tracker: '/tmp/pip-req-tracker-8mt5_wqv'\n"
     ]
    }
   ],
   "source": [
    "!pip3 -vvv install pandas\n",
    "!pip3 -vvv install numpy\n",
    "!pip3 -vvv install ipywidgets"
   ]
  },
  {
   "cell_type": "code",
   "execution_count": 2,
   "id": "89912af2",
   "metadata": {},
   "outputs": [],
   "source": [
    "import pandas as pd\n",
    "import numpy as np\n",
    "import ipywidgets as widgets\n",
    "import io"
   ]
  },
  {
   "cell_type": "code",
   "execution_count": null,
   "id": "ede944b0",
   "metadata": {},
   "outputs": [],
   "source": [
    "btn_upload = widgets.FileUpload(accept=\".csv\", multiple=False)\n",
    "out_pl = widgets.Output()\n",
    "out_pl.clear_output()\n",
    "btn_convert = widgets.Button(description=\"Convert\")\n",
    "\n",
    "def get_content(self):\n",
    "    # get the file contents\n",
    "    values_dict = btn_upload.value\n",
    "    first_value = values_dict.values()\n",
    "    file_data = next(iter(first_value))\n",
    "    content = file_data[\"content\"]\n",
    "    \n",
    "    convert_csv(content)\n",
    "    \n",
    "\n",
    "def convert_csv(file_content):\n",
    "    # data transformations\n",
    "    df = pd.read_csv(io.BytesIO(file_content))\n",
    "    \n",
    "    to_drop = ['Token', 'Unit and Precision', 'Description', 'GTIN', 'Price', 'Option Name 1',\n",
    "       'Option Value 1', 'Default Unit Cost', 'Default Vendor Name',\n",
    "       'Default Vendor Code', 'Enabled Partick', 'Current Quantity Partick',\n",
    "       'New Quantity Partick', 'Stock Alert Enabled Partick',\n",
    "       'Stock Alert Count Partick', 'Price Partick', 'New Quantity Pollok', 'Stock Alert Count Pollok', 'Tax - Standard (20%)', 'Tax - Zero (0%)']\n",
    "    df.drop(to_drop, inplace=True, axis=1)\n",
    "    \n",
    "    tobacco_categories = ['Tobacco Cigarettes', 'Tobacco misc', 'Tobacco Rolledt']\n",
    "    tobacco_df = df.loc[df[\"Category\"].isin(tobacco_categories)]\n",
    "    \n",
    "    enabled_pollok_df = tobacco_df.loc[df[\"Enabled Pollok\"] == \"Y\"]\n",
    "    \n",
    "    sa_enabled_pollok = enabled_pollok_df.dropna(subset=[\"Stock Alert Enabled Pollok\"])\n",
    "    \n",
    "    out_pl.clear_output()\n",
    "    with out_pl:\n",
    "        display(sa_enabled_pollok)\n",
    "\n",
    "btn_convert.on_click(get_content)"
   ]
  },
  {
   "cell_type": "code",
   "execution_count": null,
   "id": "993763b6",
   "metadata": {},
   "outputs": [],
   "source": [
    "# build gui\n",
    "widgets.VBox([widgets.Label(\"Convert the Square products csv\"),\n",
    "     btn_upload, btn_convert, out_pl])"
   ]
  },
  {
   "cell_type": "code",
   "execution_count": null,
   "id": "3504aa9f",
   "metadata": {},
   "outputs": [],
   "source": [
    "!pip3 -v install nbconvert\n",
    "!pip3 -v install voila\n",
    "!jupyter serverextension enable --sys-prefix voila"
   ]
  },
  {
   "cell_type": "code",
   "execution_count": null,
   "id": "ac8dd02d",
   "metadata": {},
   "outputs": [],
   "source": []
  }
 ],
 "metadata": {
  "kernelspec": {
   "display_name": "Python 3",
   "language": "python",
   "name": "python3"
  },
  "language_info": {
   "codemirror_mode": {
    "name": "ipython",
    "version": 3
   },
   "file_extension": ".py",
   "mimetype": "text/x-python",
   "name": "python",
   "nbconvert_exporter": "python",
   "pygments_lexer": "ipython3",
   "version": "3.8.10"
  }
 },
 "nbformat": 4,
 "nbformat_minor": 5
}
